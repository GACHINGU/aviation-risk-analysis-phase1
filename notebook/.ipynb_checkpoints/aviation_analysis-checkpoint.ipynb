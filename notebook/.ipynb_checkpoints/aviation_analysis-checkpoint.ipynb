{
 "cells": [
  {
   "cell_type": "markdown",
   "metadata": {},
   "source": [
    "**LOADING THE DATA SET**\n",
    "\n",
    "Here we begin by loading the data set using the pandas alias pd so as to ready it for cleaning\n",
    "As you will note in my code , I will use the encoding and the low memory statements to just instruct pytho to go easy on the data and understand it"
   ]
  },
  {
   "cell_type": "code",
   "execution_count": 1,
   "metadata": {},
   "outputs": [
    {
     "data": {
      "text/html": [
       "<div>\n",
       "<style scoped>\n",
       "    .dataframe tbody tr th:only-of-type {\n",
       "        vertical-align: middle;\n",
       "    }\n",
       "\n",
       "    .dataframe tbody tr th {\n",
       "        vertical-align: top;\n",
       "    }\n",
       "\n",
       "    .dataframe thead th {\n",
       "        text-align: right;\n",
       "    }\n",
       "</style>\n",
       "<table border=\"1\" class=\"dataframe\">\n",
       "  <thead>\n",
       "    <tr style=\"text-align: right;\">\n",
       "      <th></th>\n",
       "      <th>Event.Id</th>\n",
       "      <th>Investigation.Type</th>\n",
       "      <th>Accident.Number</th>\n",
       "      <th>Event.Date</th>\n",
       "      <th>Location</th>\n",
       "      <th>Country</th>\n",
       "      <th>Latitude</th>\n",
       "      <th>Longitude</th>\n",
       "      <th>Airport.Code</th>\n",
       "      <th>Airport.Name</th>\n",
       "      <th>...</th>\n",
       "      <th>Purpose.of.flight</th>\n",
       "      <th>Air.carrier</th>\n",
       "      <th>Total.Fatal.Injuries</th>\n",
       "      <th>Total.Serious.Injuries</th>\n",
       "      <th>Total.Minor.Injuries</th>\n",
       "      <th>Total.Uninjured</th>\n",
       "      <th>Weather.Condition</th>\n",
       "      <th>Broad.phase.of.flight</th>\n",
       "      <th>Report.Status</th>\n",
       "      <th>Publication.Date</th>\n",
       "    </tr>\n",
       "  </thead>\n",
       "  <tbody>\n",
       "    <tr>\n",
       "      <th>0</th>\n",
       "      <td>20001218X45444</td>\n",
       "      <td>Accident</td>\n",
       "      <td>SEA87LA080</td>\n",
       "      <td>1948-10-24</td>\n",
       "      <td>MOOSE CREEK, ID</td>\n",
       "      <td>United States</td>\n",
       "      <td>NaN</td>\n",
       "      <td>NaN</td>\n",
       "      <td>NaN</td>\n",
       "      <td>NaN</td>\n",
       "      <td>...</td>\n",
       "      <td>Personal</td>\n",
       "      <td>NaN</td>\n",
       "      <td>2.0</td>\n",
       "      <td>0.0</td>\n",
       "      <td>0.0</td>\n",
       "      <td>0.0</td>\n",
       "      <td>UNK</td>\n",
       "      <td>Cruise</td>\n",
       "      <td>Probable Cause</td>\n",
       "      <td>NaN</td>\n",
       "    </tr>\n",
       "    <tr>\n",
       "      <th>1</th>\n",
       "      <td>20001218X45447</td>\n",
       "      <td>Accident</td>\n",
       "      <td>LAX94LA336</td>\n",
       "      <td>1962-07-19</td>\n",
       "      <td>BRIDGEPORT, CA</td>\n",
       "      <td>United States</td>\n",
       "      <td>NaN</td>\n",
       "      <td>NaN</td>\n",
       "      <td>NaN</td>\n",
       "      <td>NaN</td>\n",
       "      <td>...</td>\n",
       "      <td>Personal</td>\n",
       "      <td>NaN</td>\n",
       "      <td>4.0</td>\n",
       "      <td>0.0</td>\n",
       "      <td>0.0</td>\n",
       "      <td>0.0</td>\n",
       "      <td>UNK</td>\n",
       "      <td>Unknown</td>\n",
       "      <td>Probable Cause</td>\n",
       "      <td>19-09-1996</td>\n",
       "    </tr>\n",
       "    <tr>\n",
       "      <th>2</th>\n",
       "      <td>20061025X01555</td>\n",
       "      <td>Accident</td>\n",
       "      <td>NYC07LA005</td>\n",
       "      <td>1974-08-30</td>\n",
       "      <td>Saltville, VA</td>\n",
       "      <td>United States</td>\n",
       "      <td>36.922223</td>\n",
       "      <td>-81.878056</td>\n",
       "      <td>NaN</td>\n",
       "      <td>NaN</td>\n",
       "      <td>...</td>\n",
       "      <td>Personal</td>\n",
       "      <td>NaN</td>\n",
       "      <td>3.0</td>\n",
       "      <td>NaN</td>\n",
       "      <td>NaN</td>\n",
       "      <td>NaN</td>\n",
       "      <td>IMC</td>\n",
       "      <td>Cruise</td>\n",
       "      <td>Probable Cause</td>\n",
       "      <td>26-02-2007</td>\n",
       "    </tr>\n",
       "    <tr>\n",
       "      <th>3</th>\n",
       "      <td>20001218X45448</td>\n",
       "      <td>Accident</td>\n",
       "      <td>LAX96LA321</td>\n",
       "      <td>1977-06-19</td>\n",
       "      <td>EUREKA, CA</td>\n",
       "      <td>United States</td>\n",
       "      <td>NaN</td>\n",
       "      <td>NaN</td>\n",
       "      <td>NaN</td>\n",
       "      <td>NaN</td>\n",
       "      <td>...</td>\n",
       "      <td>Personal</td>\n",
       "      <td>NaN</td>\n",
       "      <td>2.0</td>\n",
       "      <td>0.0</td>\n",
       "      <td>0.0</td>\n",
       "      <td>0.0</td>\n",
       "      <td>IMC</td>\n",
       "      <td>Cruise</td>\n",
       "      <td>Probable Cause</td>\n",
       "      <td>12-09-2000</td>\n",
       "    </tr>\n",
       "    <tr>\n",
       "      <th>4</th>\n",
       "      <td>20041105X01764</td>\n",
       "      <td>Accident</td>\n",
       "      <td>CHI79FA064</td>\n",
       "      <td>1979-08-02</td>\n",
       "      <td>Canton, OH</td>\n",
       "      <td>United States</td>\n",
       "      <td>NaN</td>\n",
       "      <td>NaN</td>\n",
       "      <td>NaN</td>\n",
       "      <td>NaN</td>\n",
       "      <td>...</td>\n",
       "      <td>Personal</td>\n",
       "      <td>NaN</td>\n",
       "      <td>1.0</td>\n",
       "      <td>2.0</td>\n",
       "      <td>NaN</td>\n",
       "      <td>0.0</td>\n",
       "      <td>VMC</td>\n",
       "      <td>Approach</td>\n",
       "      <td>Probable Cause</td>\n",
       "      <td>16-04-1980</td>\n",
       "    </tr>\n",
       "  </tbody>\n",
       "</table>\n",
       "<p>5 rows × 31 columns</p>\n",
       "</div>"
      ],
      "text/plain": [
       "         Event.Id Investigation.Type Accident.Number  Event.Date  \\\n",
       "0  20001218X45444           Accident      SEA87LA080  1948-10-24   \n",
       "1  20001218X45447           Accident      LAX94LA336  1962-07-19   \n",
       "2  20061025X01555           Accident      NYC07LA005  1974-08-30   \n",
       "3  20001218X45448           Accident      LAX96LA321  1977-06-19   \n",
       "4  20041105X01764           Accident      CHI79FA064  1979-08-02   \n",
       "\n",
       "          Location        Country   Latitude   Longitude Airport.Code  \\\n",
       "0  MOOSE CREEK, ID  United States        NaN         NaN          NaN   \n",
       "1   BRIDGEPORT, CA  United States        NaN         NaN          NaN   \n",
       "2    Saltville, VA  United States  36.922223  -81.878056          NaN   \n",
       "3       EUREKA, CA  United States        NaN         NaN          NaN   \n",
       "4       Canton, OH  United States        NaN         NaN          NaN   \n",
       "\n",
       "  Airport.Name  ... Purpose.of.flight Air.carrier Total.Fatal.Injuries  \\\n",
       "0          NaN  ...          Personal         NaN                  2.0   \n",
       "1          NaN  ...          Personal         NaN                  4.0   \n",
       "2          NaN  ...          Personal         NaN                  3.0   \n",
       "3          NaN  ...          Personal         NaN                  2.0   \n",
       "4          NaN  ...          Personal         NaN                  1.0   \n",
       "\n",
       "  Total.Serious.Injuries Total.Minor.Injuries Total.Uninjured  \\\n",
       "0                    0.0                  0.0             0.0   \n",
       "1                    0.0                  0.0             0.0   \n",
       "2                    NaN                  NaN             NaN   \n",
       "3                    0.0                  0.0             0.0   \n",
       "4                    2.0                  NaN             0.0   \n",
       "\n",
       "  Weather.Condition  Broad.phase.of.flight   Report.Status Publication.Date  \n",
       "0               UNK                 Cruise  Probable Cause              NaN  \n",
       "1               UNK                Unknown  Probable Cause       19-09-1996  \n",
       "2               IMC                 Cruise  Probable Cause       26-02-2007  \n",
       "3               IMC                 Cruise  Probable Cause       12-09-2000  \n",
       "4               VMC               Approach  Probable Cause       16-04-1980  \n",
       "\n",
       "[5 rows x 31 columns]"
      ]
     },
     "execution_count": 1,
     "metadata": {},
     "output_type": "execute_result"
    }
   ],
   "source": [
    "import pandas as pd\n",
    "#here we are using the encoding because python is saying \"hey I dont understand those wire letter\"\n",
    "df = pd.read_csv(\"AviationData.csv\",encoding='latin1',low_memory=False)\n",
    "#show the first few rows of the data\n",
    "df.head()"
   ]
  },
  {
   "cell_type": "markdown",
   "metadata": {},
   "source": [
    "**THE FIRST EXPLORATION OF THE DATA**\n",
    "\n",
    "Now its time to understand the data in depth,here I intend to find out what are the  column names , data types and the missing values"
   ]
  },
  {
   "cell_type": "code",
   "execution_count": 2,
   "metadata": {},
   "outputs": [
    {
     "name": "stdout",
     "output_type": "stream",
     "text": [
      "<class 'pandas.core.frame.DataFrame'>\n",
      "RangeIndex: 88889 entries, 0 to 88888\n",
      "Data columns (total 31 columns):\n",
      " #   Column                  Non-Null Count  Dtype  \n",
      "---  ------                  --------------  -----  \n",
      " 0   Event.Id                88889 non-null  object \n",
      " 1   Investigation.Type      88889 non-null  object \n",
      " 2   Accident.Number         88889 non-null  object \n",
      " 3   Event.Date              88889 non-null  object \n",
      " 4   Location                88837 non-null  object \n",
      " 5   Country                 88663 non-null  object \n",
      " 6   Latitude                34382 non-null  object \n",
      " 7   Longitude               34373 non-null  object \n",
      " 8   Airport.Code            50249 non-null  object \n",
      " 9   Airport.Name            52790 non-null  object \n",
      " 10  Injury.Severity         87889 non-null  object \n",
      " 11  Aircraft.damage         85695 non-null  object \n",
      " 12  Aircraft.Category       32287 non-null  object \n",
      " 13  Registration.Number     87572 non-null  object \n",
      " 14  Make                    88826 non-null  object \n",
      " 15  Model                   88797 non-null  object \n",
      " 16  Amateur.Built           88787 non-null  object \n",
      " 17  Number.of.Engines       82805 non-null  float64\n",
      " 18  Engine.Type             81812 non-null  object \n",
      " 19  FAR.Description         32023 non-null  object \n",
      " 20  Schedule                12582 non-null  object \n",
      " 21  Purpose.of.flight       82697 non-null  object \n",
      " 22  Air.carrier             16648 non-null  object \n",
      " 23  Total.Fatal.Injuries    77488 non-null  float64\n",
      " 24  Total.Serious.Injuries  76379 non-null  float64\n",
      " 25  Total.Minor.Injuries    76956 non-null  float64\n",
      " 26  Total.Uninjured         82977 non-null  float64\n",
      " 27  Weather.Condition       84397 non-null  object \n",
      " 28  Broad.phase.of.flight   61724 non-null  object \n",
      " 29  Report.Status           82508 non-null  object \n",
      " 30  Publication.Date        75118 non-null  object \n",
      "dtypes: float64(5), object(26)\n",
      "memory usage: 21.0+ MB\n"
     ]
    }
   ],
   "source": [
    "#lets first understand the dataset in general \n",
    "df.info()"
   ]
  },
  {
   "cell_type": "markdown",
   "metadata": {},
   "source": [
    "**Findings from the .info()**\n",
    "\n",
    "From the .info():\n",
    "\n",
    "We see that there are 88889 rows of data.\n",
    "\n",
    "We see that there are a total of 31 columns.\n",
    "\n",
    "we see that most columns are mainly made of object or string data type.\n",
    "\n",
    "We also have noticed that some of the columns have missing values. "
   ]
  },
  {
   "cell_type": "code",
   "execution_count": 3,
   "metadata": {},
   "outputs": [
    {
     "data": {
      "text/plain": [
       "(88889, 31)"
      ]
     },
     "execution_count": 3,
     "metadata": {},
     "output_type": "execute_result"
    }
   ],
   "source": [
    "#lets find a tuple of the dataset info to confirm my findings\n",
    "df.shape"
   ]
  },
  {
   "cell_type": "markdown",
   "metadata": {},
   "source": [
    "**STATISTICAL SUMMARY OF THE NUMERICAL DATA**\n",
    "\n",
    "Since numerics will go far in analysing the data we can as well as get the summary statistics of the data"
   ]
  },
  {
   "cell_type": "code",
   "execution_count": 4,
   "metadata": {},
   "outputs": [
    {
     "data": {
      "text/html": [
       "<div>\n",
       "<style scoped>\n",
       "    .dataframe tbody tr th:only-of-type {\n",
       "        vertical-align: middle;\n",
       "    }\n",
       "\n",
       "    .dataframe tbody tr th {\n",
       "        vertical-align: top;\n",
       "    }\n",
       "\n",
       "    .dataframe thead th {\n",
       "        text-align: right;\n",
       "    }\n",
       "</style>\n",
       "<table border=\"1\" class=\"dataframe\">\n",
       "  <thead>\n",
       "    <tr style=\"text-align: right;\">\n",
       "      <th></th>\n",
       "      <th>Number.of.Engines</th>\n",
       "      <th>Total.Fatal.Injuries</th>\n",
       "      <th>Total.Serious.Injuries</th>\n",
       "      <th>Total.Minor.Injuries</th>\n",
       "      <th>Total.Uninjured</th>\n",
       "    </tr>\n",
       "  </thead>\n",
       "  <tbody>\n",
       "    <tr>\n",
       "      <th>count</th>\n",
       "      <td>82805.000000</td>\n",
       "      <td>77488.000000</td>\n",
       "      <td>76379.000000</td>\n",
       "      <td>76956.000000</td>\n",
       "      <td>82977.000000</td>\n",
       "    </tr>\n",
       "    <tr>\n",
       "      <th>mean</th>\n",
       "      <td>1.146585</td>\n",
       "      <td>0.647855</td>\n",
       "      <td>0.279881</td>\n",
       "      <td>0.357061</td>\n",
       "      <td>5.325440</td>\n",
       "    </tr>\n",
       "    <tr>\n",
       "      <th>std</th>\n",
       "      <td>0.446510</td>\n",
       "      <td>5.485960</td>\n",
       "      <td>1.544084</td>\n",
       "      <td>2.235625</td>\n",
       "      <td>27.913634</td>\n",
       "    </tr>\n",
       "    <tr>\n",
       "      <th>min</th>\n",
       "      <td>0.000000</td>\n",
       "      <td>0.000000</td>\n",
       "      <td>0.000000</td>\n",
       "      <td>0.000000</td>\n",
       "      <td>0.000000</td>\n",
       "    </tr>\n",
       "    <tr>\n",
       "      <th>25%</th>\n",
       "      <td>1.000000</td>\n",
       "      <td>0.000000</td>\n",
       "      <td>0.000000</td>\n",
       "      <td>0.000000</td>\n",
       "      <td>0.000000</td>\n",
       "    </tr>\n",
       "    <tr>\n",
       "      <th>50%</th>\n",
       "      <td>1.000000</td>\n",
       "      <td>0.000000</td>\n",
       "      <td>0.000000</td>\n",
       "      <td>0.000000</td>\n",
       "      <td>1.000000</td>\n",
       "    </tr>\n",
       "    <tr>\n",
       "      <th>75%</th>\n",
       "      <td>1.000000</td>\n",
       "      <td>0.000000</td>\n",
       "      <td>0.000000</td>\n",
       "      <td>0.000000</td>\n",
       "      <td>2.000000</td>\n",
       "    </tr>\n",
       "    <tr>\n",
       "      <th>max</th>\n",
       "      <td>8.000000</td>\n",
       "      <td>349.000000</td>\n",
       "      <td>161.000000</td>\n",
       "      <td>380.000000</td>\n",
       "      <td>699.000000</td>\n",
       "    </tr>\n",
       "  </tbody>\n",
       "</table>\n",
       "</div>"
      ],
      "text/plain": [
       "       Number.of.Engines  Total.Fatal.Injuries  Total.Serious.Injuries  \\\n",
       "count       82805.000000          77488.000000            76379.000000   \n",
       "mean            1.146585              0.647855                0.279881   \n",
       "std             0.446510              5.485960                1.544084   \n",
       "min             0.000000              0.000000                0.000000   \n",
       "25%             1.000000              0.000000                0.000000   \n",
       "50%             1.000000              0.000000                0.000000   \n",
       "75%             1.000000              0.000000                0.000000   \n",
       "max             8.000000            349.000000              161.000000   \n",
       "\n",
       "       Total.Minor.Injuries  Total.Uninjured  \n",
       "count          76956.000000     82977.000000  \n",
       "mean               0.357061         5.325440  \n",
       "std                2.235625        27.913634  \n",
       "min                0.000000         0.000000  \n",
       "25%                0.000000         0.000000  \n",
       "50%                0.000000         1.000000  \n",
       "75%                0.000000         2.000000  \n",
       "max              380.000000       699.000000  "
      ]
     },
     "execution_count": 4,
     "metadata": {},
     "output_type": "execute_result"
    }
   ],
   "source": [
    "#lets get a statistical summary of the numerical columns\n",
    "df.describe()"
   ]
  },
  {
   "cell_type": "markdown",
   "metadata": {},
   "source": [
    "**CLEANING THE DATA**\n",
    "\n",
    "Lets handle the most common issues:\n",
    "\n",
    "1. Checking for missing values\n",
    "2. Dropping columns with tooo many missing values\n",
    "3. Drop duplicates  if any.\n",
    "4. Drop rows with critical missing values\n",
    "\n",
    "We can also focus on the none essential things:\n",
    "\n",
    "1. Fix column names\n",
    "2. Convert dates"
   ]
  },
  {
   "cell_type": "code",
   "execution_count": 5,
   "metadata": {},
   "outputs": [
    {
     "data": {
      "text/plain": [
       "Event.Id                      0\n",
       "Investigation.Type            0\n",
       "Accident.Number               0\n",
       "Event.Date                    0\n",
       "Location                     52\n",
       "Make                         63\n",
       "Model                        92\n",
       "Amateur.Built               102\n",
       "Country                     226\n",
       "Injury.Severity            1000\n",
       "Registration.Number        1317\n",
       "Aircraft.damage            3194\n",
       "Weather.Condition          4492\n",
       "Total.Uninjured            5912\n",
       "Number.of.Engines          6084\n",
       "Purpose.of.flight          6192\n",
       "Report.Status              6381\n",
       "Engine.Type                7077\n",
       "Total.Fatal.Injuries      11401\n",
       "Total.Minor.Injuries      11933\n",
       "Total.Serious.Injuries    12510\n",
       "Publication.Date          13771\n",
       "Broad.phase.of.flight     27165\n",
       "Airport.Name              36099\n",
       "Airport.Code              38640\n",
       "Latitude                  54507\n",
       "Longitude                 54516\n",
       "Aircraft.Category         56602\n",
       "FAR.Description           56866\n",
       "Air.carrier               72241\n",
       "Schedule                  76307\n",
       "dtype: int64"
      ]
     },
     "execution_count": 5,
     "metadata": {},
     "output_type": "execute_result"
    }
   ],
   "source": [
    "#Counting missing values in each column\n",
    "df.isnull().sum().sort_values(ascending=True)"
   ]
  },
  {
   "cell_type": "markdown",
   "metadata": {},
   "source": [
    "**Findings from the .isnull():**\n",
    "\n",
    "We can see that some columns have as many as a 3/4 missing value ana thats a serious concern\n",
    "\n",
    "Its impossible to use the central measures of dispersion  to fill them since there is not enough information to do so"
   ]
  },
  {
   "cell_type": "code",
   "execution_count": 6,
   "metadata": {},
   "outputs": [],
   "source": [
    "#Lets drop columns where more than 50% values are missing\n",
    "thresh_drop = len(df)*0.5\n",
    "df = df.dropna(thresh=thresh_drop, axis=1)"
   ]
  },
  {
   "cell_type": "code",
   "execution_count": 7,
   "metadata": {},
   "outputs": [
    {
     "data": {
      "text/plain": [
       "Index(['event_id', 'investigation_type', 'accident_number', 'event_date',\n",
       "       'location', 'country', 'airport_code', 'airport_name',\n",
       "       'injury_severity', 'aircraft_damage', 'registration_number', 'make',\n",
       "       'model', 'amateur_built', 'number_of_engines', 'engine_type',\n",
       "       'purpose_of_flight', 'total_fatal_injuries', 'total_serious_injuries',\n",
       "       'total_minor_injuries', 'total_uninjured', 'weather_condition',\n",
       "       'broad_phase_of_flight', 'report_status', 'publication_date'],\n",
       "      dtype='object')"
      ]
     },
     "execution_count": 7,
     "metadata": {},
     "output_type": "execute_result"
    }
   ],
   "source": [
    "#Lets fix column names\n",
    "# Remove leading/trailing dots and lowercase\n",
    "df.columns = df.columns.str.strip().str.lower().str.replace(\".\", \"_\")\n",
    "df.columns"
   ]
  },
  {
   "cell_type": "code",
   "execution_count": 8,
   "metadata": {},
   "outputs": [],
   "source": [
    "#lets fix the dates\n",
    "df[\"event_date\"]= pd.to_datetime(df[\"event_date\"], errors=\"coerce\")"
   ]
  },
  {
   "cell_type": "code",
   "execution_count": 9,
   "metadata": {},
   "outputs": [],
   "source": [
    "#Lets remove duplicates if any\n",
    "df.drop_duplicates(inplace = True)"
   ]
  },
  {
   "cell_type": "code",
   "execution_count": 10,
   "metadata": {},
   "outputs": [],
   "source": [
    "#Now lets drop rows where critical values are missing\n",
    "df=df.dropna(subset=[\"aircraft_damage\",\"make\", \"model\"])"
   ]
  },
  {
   "cell_type": "code",
   "execution_count": 11,
   "metadata": {},
   "outputs": [],
   "source": [
    "#Lets rename confusing column names for easier understanding\n",
    "df.rename(columns={\n",
    "    'make': 'manufacturer',\n",
    "    'model': 'aircraft_model',\n",
    "    'event_date': 'date',\n",
    "    'aircraft_damage': 'damage_level'\n",
    "}, inplace=True)\n"
   ]
  },
  {
   "cell_type": "markdown",
   "metadata": {},
   "source": [
    "That now is an wae_some dataset , now lets look at whats useful for our projects "
   ]
  },
  {
   "cell_type": "code",
   "execution_count": 12,
   "metadata": {},
   "outputs": [
    {
     "data": {
      "text/plain": [
       "['event_id',\n",
       " 'investigation_type',\n",
       " 'accident_number',\n",
       " 'date',\n",
       " 'location',\n",
       " 'country',\n",
       " 'airport_code',\n",
       " 'airport_name',\n",
       " 'injury_severity',\n",
       " 'damage_level',\n",
       " 'registration_number',\n",
       " 'manufacturer',\n",
       " 'aircraft_model',\n",
       " 'amateur_built',\n",
       " 'number_of_engines',\n",
       " 'engine_type',\n",
       " 'purpose_of_flight',\n",
       " 'total_fatal_injuries',\n",
       " 'total_serious_injuries',\n",
       " 'total_minor_injuries',\n",
       " 'total_uninjured',\n",
       " 'weather_condition',\n",
       " 'broad_phase_of_flight',\n",
       " 'report_status',\n",
       " 'publication_date']"
      ]
     },
     "execution_count": 12,
     "metadata": {},
     "output_type": "execute_result"
    }
   ],
   "source": [
    "#lets look at all columns\n",
    "df.columns.tolist()"
   ]
  },
  {
   "cell_type": "markdown",
   "metadata": {},
   "source": [
    "lets create a focused dataframe from the most high_impact columns, which can be used to create insights"
   ]
  },
  {
   "cell_type": "code",
   "execution_count": 13,
   "metadata": {},
   "outputs": [],
   "source": [
    "df_focus = df[[\n",
    "    \"date\",\n",
    "    \"location\",\n",
    "    \"manufacturer\",\n",
    "    \"aircraft_model\",\n",
    "    \"purpose_of_flight\",\n",
    "    \"damage_level\",\n",
    "    \"injury_severity\",\n",
    "    \"total_fatal_injuries\",\n",
    "    \"total_serious_injuries\",\n",
    "    \"total_minor_injuries\",\n",
    "    \"total_uninjured\"\n",
    "    \n",
    "    \n",
    "]]\n"
   ]
  },
  {
   "cell_type": "markdown",
   "metadata": {},
   "source": [
    "Lets first create a safety score column"
   ]
  },
  {
   "cell_type": "markdown",
   "metadata": {},
   "source": [
    "This formula gives higher weight to fatal injuries, medium to serious, and low to minor. More injuries = worse safety = higher score."
   ]
  },
  {
   "cell_type": "markdown",
   "metadata": {},
   "source": [
    "safety_score = total_fatal_injuries * 5 + total_serious_injuries * 3 + total_minor_injuries * 1"
   ]
  },
  {
   "cell_type": "code",
   "execution_count": 14,
   "metadata": {},
   "outputs": [
    {
     "name": "stderr",
     "output_type": "stream",
     "text": [
      "<ipython-input-14-28d6516abb25>:2: SettingWithCopyWarning: \n",
      "A value is trying to be set on a copy of a slice from a DataFrame.\n",
      "Try using .loc[row_indexer,col_indexer] = value instead\n",
      "\n",
      "See the caveats in the documentation: https://pandas.pydata.org/pandas-docs/stable/user_guide/indexing.html#returning-a-view-versus-a-copy\n",
      "  df_focus[\"total_fatal_injuries\"] = df_focus[\"total_fatal_injuries\"].fillna(0)\n",
      "<ipython-input-14-28d6516abb25>:3: SettingWithCopyWarning: \n",
      "A value is trying to be set on a copy of a slice from a DataFrame.\n",
      "Try using .loc[row_indexer,col_indexer] = value instead\n",
      "\n",
      "See the caveats in the documentation: https://pandas.pydata.org/pandas-docs/stable/user_guide/indexing.html#returning-a-view-versus-a-copy\n",
      "  df_focus[\"total_serious_injuries\"] = df_focus[\"total_serious_injuries\"].fillna(0)\n",
      "<ipython-input-14-28d6516abb25>:4: SettingWithCopyWarning: \n",
      "A value is trying to be set on a copy of a slice from a DataFrame.\n",
      "Try using .loc[row_indexer,col_indexer] = value instead\n",
      "\n",
      "See the caveats in the documentation: https://pandas.pydata.org/pandas-docs/stable/user_guide/indexing.html#returning-a-view-versus-a-copy\n",
      "  df_focus[\"total_minor_injuries\"] = df_focus[\"total_minor_injuries\"].fillna(0)\n",
      "<ipython-input-14-28d6516abb25>:7: SettingWithCopyWarning: \n",
      "A value is trying to be set on a copy of a slice from a DataFrame.\n",
      "Try using .loc[row_indexer,col_indexer] = value instead\n",
      "\n",
      "See the caveats in the documentation: https://pandas.pydata.org/pandas-docs/stable/user_guide/indexing.html#returning-a-view-versus-a-copy\n",
      "  df_focus[\"safety_score\"] = (\n"
     ]
    }
   ],
   "source": [
    "# Replace NaNs with 0s to avoid errors in calculation\n",
    "df_focus[\"total_fatal_injuries\"] = df_focus[\"total_fatal_injuries\"].fillna(0)\n",
    "df_focus[\"total_serious_injuries\"] = df_focus[\"total_serious_injuries\"].fillna(0)\n",
    "df_focus[\"total_minor_injuries\"] = df_focus[\"total_minor_injuries\"].fillna(0)\n",
    "\n",
    "# Create safety_score column\n",
    "df_focus[\"safety_score\"] = (\n",
    "    df_focus[\"total_fatal_injuries\"] * 5 +\n",
    "    df_focus[\"total_serious_injuries\"] * 3 +\n",
    "    df_focus[\"total_minor_injuries\"] * 1\n",
    ")\n",
    "\n"
   ]
  },
  {
   "cell_type": "markdown",
   "metadata": {},
   "source": [
    " **Exploratory Data Analysis (EDA)**\n",
    "\n",
    "This section explores the aviation accidents dataset to uncover patterns and support our business recommendations. We focus on injury severity, aircraft types, manufacturers, and accident trends over time.\n",
    "\n",
    "In our visualizations we will use two specific set of color codes to keep it professional.\n",
    "\n",
    "That is:\n",
    "\n",
    "1.) Elesctric blue => #FF3B30\n",
    "\n",
    "2.) Crimson red  => #1FB6FF\n",
    "\n",
    "\n",
    "\n"
   ]
  },
  {
   "cell_type": "markdown",
   "metadata": {},
   "source": [
    "**1. Basic information**\n",
    "\n",
    "Checking the size and the structure of the dataset"
   ]
  },
  {
   "cell_type": "code",
   "execution_count": 15,
   "metadata": {},
   "outputs": [
    {
     "name": "stdout",
     "output_type": "stream",
     "text": [
      "Dataset contains 85605 rows and 12 columns.\n"
     ]
    },
    {
     "data": {
      "text/html": [
       "<div>\n",
       "<style scoped>\n",
       "    .dataframe tbody tr th:only-of-type {\n",
       "        vertical-align: middle;\n",
       "    }\n",
       "\n",
       "    .dataframe tbody tr th {\n",
       "        vertical-align: top;\n",
       "    }\n",
       "\n",
       "    .dataframe thead th {\n",
       "        text-align: right;\n",
       "    }\n",
       "</style>\n",
       "<table border=\"1\" class=\"dataframe\">\n",
       "  <thead>\n",
       "    <tr style=\"text-align: right;\">\n",
       "      <th></th>\n",
       "      <th>date</th>\n",
       "      <th>location</th>\n",
       "      <th>manufacturer</th>\n",
       "      <th>aircraft_model</th>\n",
       "      <th>purpose_of_flight</th>\n",
       "      <th>damage_level</th>\n",
       "      <th>injury_severity</th>\n",
       "      <th>total_fatal_injuries</th>\n",
       "      <th>total_serious_injuries</th>\n",
       "      <th>total_minor_injuries</th>\n",
       "      <th>total_uninjured</th>\n",
       "      <th>safety_score</th>\n",
       "    </tr>\n",
       "  </thead>\n",
       "  <tbody>\n",
       "    <tr>\n",
       "      <th>0</th>\n",
       "      <td>1948-10-24</td>\n",
       "      <td>MOOSE CREEK, ID</td>\n",
       "      <td>Stinson</td>\n",
       "      <td>108-3</td>\n",
       "      <td>Personal</td>\n",
       "      <td>Destroyed</td>\n",
       "      <td>Fatal(2)</td>\n",
       "      <td>2.0</td>\n",
       "      <td>0.0</td>\n",
       "      <td>0.0</td>\n",
       "      <td>0.0</td>\n",
       "      <td>10.0</td>\n",
       "    </tr>\n",
       "    <tr>\n",
       "      <th>1</th>\n",
       "      <td>1962-07-19</td>\n",
       "      <td>BRIDGEPORT, CA</td>\n",
       "      <td>Piper</td>\n",
       "      <td>PA24-180</td>\n",
       "      <td>Personal</td>\n",
       "      <td>Destroyed</td>\n",
       "      <td>Fatal(4)</td>\n",
       "      <td>4.0</td>\n",
       "      <td>0.0</td>\n",
       "      <td>0.0</td>\n",
       "      <td>0.0</td>\n",
       "      <td>20.0</td>\n",
       "    </tr>\n",
       "    <tr>\n",
       "      <th>2</th>\n",
       "      <td>1974-08-30</td>\n",
       "      <td>Saltville, VA</td>\n",
       "      <td>Cessna</td>\n",
       "      <td>172M</td>\n",
       "      <td>Personal</td>\n",
       "      <td>Destroyed</td>\n",
       "      <td>Fatal(3)</td>\n",
       "      <td>3.0</td>\n",
       "      <td>0.0</td>\n",
       "      <td>0.0</td>\n",
       "      <td>NaN</td>\n",
       "      <td>15.0</td>\n",
       "    </tr>\n",
       "    <tr>\n",
       "      <th>3</th>\n",
       "      <td>1977-06-19</td>\n",
       "      <td>EUREKA, CA</td>\n",
       "      <td>Rockwell</td>\n",
       "      <td>112</td>\n",
       "      <td>Personal</td>\n",
       "      <td>Destroyed</td>\n",
       "      <td>Fatal(2)</td>\n",
       "      <td>2.0</td>\n",
       "      <td>0.0</td>\n",
       "      <td>0.0</td>\n",
       "      <td>0.0</td>\n",
       "      <td>10.0</td>\n",
       "    </tr>\n",
       "    <tr>\n",
       "      <th>4</th>\n",
       "      <td>1979-08-02</td>\n",
       "      <td>Canton, OH</td>\n",
       "      <td>Cessna</td>\n",
       "      <td>501</td>\n",
       "      <td>Personal</td>\n",
       "      <td>Destroyed</td>\n",
       "      <td>Fatal(1)</td>\n",
       "      <td>1.0</td>\n",
       "      <td>2.0</td>\n",
       "      <td>0.0</td>\n",
       "      <td>0.0</td>\n",
       "      <td>11.0</td>\n",
       "    </tr>\n",
       "  </tbody>\n",
       "</table>\n",
       "</div>"
      ],
      "text/plain": [
       "        date         location manufacturer aircraft_model purpose_of_flight  \\\n",
       "0 1948-10-24  MOOSE CREEK, ID      Stinson          108-3          Personal   \n",
       "1 1962-07-19   BRIDGEPORT, CA        Piper       PA24-180          Personal   \n",
       "2 1974-08-30    Saltville, VA       Cessna           172M          Personal   \n",
       "3 1977-06-19       EUREKA, CA     Rockwell            112          Personal   \n",
       "4 1979-08-02       Canton, OH       Cessna            501          Personal   \n",
       "\n",
       "  damage_level injury_severity  total_fatal_injuries  total_serious_injuries  \\\n",
       "0    Destroyed        Fatal(2)                   2.0                     0.0   \n",
       "1    Destroyed        Fatal(4)                   4.0                     0.0   \n",
       "2    Destroyed        Fatal(3)                   3.0                     0.0   \n",
       "3    Destroyed        Fatal(2)                   2.0                     0.0   \n",
       "4    Destroyed        Fatal(1)                   1.0                     2.0   \n",
       "\n",
       "   total_minor_injuries  total_uninjured  safety_score  \n",
       "0                   0.0              0.0          10.0  \n",
       "1                   0.0              0.0          20.0  \n",
       "2                   0.0              NaN          15.0  \n",
       "3                   0.0              0.0          10.0  \n",
       "4                   0.0              0.0          11.0  "
      ]
     },
     "execution_count": 15,
     "metadata": {},
     "output_type": "execute_result"
    }
   ],
   "source": [
    "# Shape of the dataset\n",
    "print(\"Dataset contains\", df_focus.shape[0], \"rows and\", df_focus.shape[1], \"columns.\")\n",
    "\n",
    "# Preview the first few rows\n",
    "df_focus.head()\n"
   ]
  },
  {
   "cell_type": "markdown",
   "metadata": {},
   "source": [
    "**2.Data types and missing values**\n",
    "\n",
    "Understand what kind of data we are working with and where values may be missing"
   ]
  },
  {
   "cell_type": "code",
   "execution_count": 16,
   "metadata": {},
   "outputs": [
    {
     "name": "stdout",
     "output_type": "stream",
     "text": [
      "<class 'pandas.core.frame.DataFrame'>\n",
      "Int64Index: 85605 entries, 0 to 88886\n",
      "Data columns (total 12 columns):\n",
      " #   Column                  Non-Null Count  Dtype         \n",
      "---  ------                  --------------  -----         \n",
      " 0   date                    85605 non-null  datetime64[ns]\n",
      " 1   location                85560 non-null  object        \n",
      " 2   manufacturer            85605 non-null  object        \n",
      " 3   aircraft_model          85605 non-null  object        \n",
      " 4   purpose_of_flight       81071 non-null  object        \n",
      " 5   damage_level            85605 non-null  object        \n",
      " 6   injury_severity         85121 non-null  object        \n",
      " 7   total_fatal_injuries    85605 non-null  float64       \n",
      " 8   total_serious_injuries  85605 non-null  float64       \n",
      " 9   total_minor_injuries    85605 non-null  float64       \n",
      " 10  total_uninjured         79805 non-null  float64       \n",
      " 11  safety_score            85605 non-null  float64       \n",
      "dtypes: datetime64[ns](1), float64(5), object(6)\n",
      "memory usage: 8.5+ MB\n"
     ]
    },
    {
     "data": {
      "text/plain": [
       "total_uninjured           5800\n",
       "purpose_of_flight         4534\n",
       "injury_severity            484\n",
       "location                    45\n",
       "safety_score                 0\n",
       "total_minor_injuries         0\n",
       "total_serious_injuries       0\n",
       "total_fatal_injuries         0\n",
       "damage_level                 0\n",
       "aircraft_model               0\n",
       "manufacturer                 0\n",
       "date                         0\n",
       "dtype: int64"
      ]
     },
     "execution_count": 16,
     "metadata": {},
     "output_type": "execute_result"
    }
   ],
   "source": [
    "# Data types and null counts\n",
    "df_focus.info()\n",
    "\n",
    "# Show missing values per column\n",
    "df_focus.isnull().sum().sort_values(ascending=False)\n"
   ]
  },
  {
   "cell_type": "markdown",
   "metadata": {},
   "source": [
    "**3. Descriptive Statistics for Injury Data**\n",
    "\n",
    "Explore the distribution of injuries and the safety score.\n"
   ]
  },
  {
   "cell_type": "code",
   "execution_count": 17,
   "metadata": {},
   "outputs": [
    {
     "data": {
      "text/html": [
       "<div>\n",
       "<style scoped>\n",
       "    .dataframe tbody tr th:only-of-type {\n",
       "        vertical-align: middle;\n",
       "    }\n",
       "\n",
       "    .dataframe tbody tr th {\n",
       "        vertical-align: top;\n",
       "    }\n",
       "\n",
       "    .dataframe thead th {\n",
       "        text-align: right;\n",
       "    }\n",
       "</style>\n",
       "<table border=\"1\" class=\"dataframe\">\n",
       "  <thead>\n",
       "    <tr style=\"text-align: right;\">\n",
       "      <th></th>\n",
       "      <th>total_fatal_injuries</th>\n",
       "      <th>total_serious_injuries</th>\n",
       "      <th>total_minor_injuries</th>\n",
       "      <th>total_uninjured</th>\n",
       "      <th>safety_score</th>\n",
       "    </tr>\n",
       "  </thead>\n",
       "  <tbody>\n",
       "    <tr>\n",
       "      <th>count</th>\n",
       "      <td>85605.000000</td>\n",
       "      <td>85605.000000</td>\n",
       "      <td>85605.000000</td>\n",
       "      <td>79805.000000</td>\n",
       "      <td>85605.000000</td>\n",
       "    </tr>\n",
       "    <tr>\n",
       "      <th>mean</th>\n",
       "      <td>0.571590</td>\n",
       "      <td>0.232825</td>\n",
       "      <td>0.301104</td>\n",
       "      <td>3.436238</td>\n",
       "      <td>3.857532</td>\n",
       "    </tr>\n",
       "    <tr>\n",
       "      <th>std</th>\n",
       "      <td>4.929455</td>\n",
       "      <td>1.401812</td>\n",
       "      <td>2.073936</td>\n",
       "      <td>21.007838</td>\n",
       "      <td>25.731553</td>\n",
       "    </tr>\n",
       "    <tr>\n",
       "      <th>min</th>\n",
       "      <td>0.000000</td>\n",
       "      <td>0.000000</td>\n",
       "      <td>0.000000</td>\n",
       "      <td>0.000000</td>\n",
       "      <td>0.000000</td>\n",
       "    </tr>\n",
       "    <tr>\n",
       "      <th>25%</th>\n",
       "      <td>0.000000</td>\n",
       "      <td>0.000000</td>\n",
       "      <td>0.000000</td>\n",
       "      <td>0.000000</td>\n",
       "      <td>0.000000</td>\n",
       "    </tr>\n",
       "    <tr>\n",
       "      <th>50%</th>\n",
       "      <td>0.000000</td>\n",
       "      <td>0.000000</td>\n",
       "      <td>0.000000</td>\n",
       "      <td>1.000000</td>\n",
       "      <td>0.000000</td>\n",
       "    </tr>\n",
       "    <tr>\n",
       "      <th>75%</th>\n",
       "      <td>0.000000</td>\n",
       "      <td>0.000000</td>\n",
       "      <td>0.000000</td>\n",
       "      <td>2.000000</td>\n",
       "      <td>4.000000</td>\n",
       "    </tr>\n",
       "    <tr>\n",
       "      <th>max</th>\n",
       "      <td>295.000000</td>\n",
       "      <td>161.000000</td>\n",
       "      <td>380.000000</td>\n",
       "      <td>699.000000</td>\n",
       "      <td>1475.000000</td>\n",
       "    </tr>\n",
       "  </tbody>\n",
       "</table>\n",
       "</div>"
      ],
      "text/plain": [
       "       total_fatal_injuries  total_serious_injuries  total_minor_injuries  \\\n",
       "count          85605.000000            85605.000000          85605.000000   \n",
       "mean               0.571590                0.232825              0.301104   \n",
       "std                4.929455                1.401812              2.073936   \n",
       "min                0.000000                0.000000              0.000000   \n",
       "25%                0.000000                0.000000              0.000000   \n",
       "50%                0.000000                0.000000              0.000000   \n",
       "75%                0.000000                0.000000              0.000000   \n",
       "max              295.000000              161.000000            380.000000   \n",
       "\n",
       "       total_uninjured  safety_score  \n",
       "count     79805.000000  85605.000000  \n",
       "mean          3.436238      3.857532  \n",
       "std          21.007838     25.731553  \n",
       "min           0.000000      0.000000  \n",
       "25%           0.000000      0.000000  \n",
       "50%           1.000000      0.000000  \n",
       "75%           2.000000      4.000000  \n",
       "max         699.000000   1475.000000  "
      ]
     },
     "execution_count": 17,
     "metadata": {},
     "output_type": "execute_result"
    }
   ],
   "source": [
    "df_focus[[\n",
    "    \"total_fatal_injuries\",\n",
    "    \"total_serious_injuries\",\n",
    "    \"total_minor_injuries\",\n",
    "    \"total_uninjured\",\n",
    "    \"safety_score\"\n",
    "    \n",
    "]].describe()\n"
   ]
  },
  {
   "cell_type": "markdown",
   "metadata": {},
   "source": [
    "Most fruequent values"
   ]
  },
  {
   "cell_type": "code",
   "execution_count": 18,
   "metadata": {},
   "outputs": [
    {
     "name": "stdout",
     "output_type": "stream",
     "text": [
      "Cessna     22082\n",
      "Piper      11956\n",
      "CESSNA      4809\n",
      "Beech       4282\n",
      "PIPER       2790\n",
      "Bell        2093\n",
      "Mooney      1086\n",
      "Grumman     1085\n",
      "Boeing      1064\n",
      "BEECH       1016\n",
      "Name: manufacturer, dtype: int64\n",
      "152          2354\n",
      "172          1734\n",
      "172N         1153\n",
      "PA-28-140     928\n",
      "150           821\n",
      "172M          797\n",
      "172P          687\n",
      "182           654\n",
      "180           621\n",
      "150M          584\n",
      "Name: aircraft_model, dtype: int64\n"
     ]
    },
    {
     "data": {
      "text/plain": [
       "Personal                     49059\n",
       "Instructional                10525\n",
       "Unknown                       5965\n",
       "Aerial Application            4696\n",
       "Business                      3924\n",
       "Positioning                   1602\n",
       "Other Work Use                1207\n",
       "Ferry                          805\n",
       "Aerial Observation             774\n",
       "Public Aircraft                707\n",
       "Executive/corporate            525\n",
       "Flight Test                    396\n",
       "Skydiving                      178\n",
       "External Load                  115\n",
       "Public Aircraft - Federal      102\n",
       "Banner Tow                     101\n",
       "Air Race show                   90\n",
       "Public Aircraft - Local         70\n",
       "Public Aircraft - State         61\n",
       "Air Race/show                   56\n",
       "Glider Tow                      53\n",
       "Firefighting                    38\n",
       "Air Drop                        11\n",
       "ASHO                             6\n",
       "PUBS                             4\n",
       "PUBL                             1\n",
       "Name: purpose_of_flight, dtype: int64"
      ]
     },
     "execution_count": 18,
     "metadata": {},
     "output_type": "execute_result"
    }
   ],
   "source": [
    "# Top 10 aircraft makes\n",
    "print(df_focus[\"manufacturer\"].value_counts().head(10))\n",
    "\n",
    "# Top 10 models\n",
    "print(df_focus[\"aircraft_model\"].value_counts().head(10))\n",
    "\n",
    "# Most common flight purposes\n",
    "df_focus[\"purpose_of_flight\"].value_counts()\n",
    "\n",
    "\n"
   ]
  },
  {
   "cell_type": "markdown",
   "metadata": {},
   "source": [
    "I have noticed that in the manufacturers column there is cessna and CESSNA , these is a common data cleaning issue , let me deal with it"
   ]
  },
  {
   "cell_type": "code",
   "execution_count": 19,
   "metadata": {},
   "outputs": [
    {
     "name": "stderr",
     "output_type": "stream",
     "text": [
      "<ipython-input-19-b11640644b76>:2: SettingWithCopyWarning: \n",
      "A value is trying to be set on a copy of a slice from a DataFrame.\n",
      "Try using .loc[row_indexer,col_indexer] = value instead\n",
      "\n",
      "See the caveats in the documentation: https://pandas.pydata.org/pandas-docs/stable/user_guide/indexing.html#returning-a-view-versus-a-copy\n",
      "  df_focus[\"manufacturer\"]=df_focus[\"manufacturer\"].str.lower()\n"
     ]
    },
    {
     "data": {
      "text/plain": [
       "cessna      26891\n",
       "piper       14746\n",
       "beech        5298\n",
       "bell         2660\n",
       "boeing       1626\n",
       "mooney       1323\n",
       "robinson     1209\n",
       "grumman      1162\n",
       "bellanca     1040\n",
       "hughes        918\n",
       "Name: manufacturer, dtype: int64"
      ]
     },
     "execution_count": 19,
     "metadata": {},
     "output_type": "execute_result"
    }
   ],
   "source": [
    "#joining the cessna and CESSNA data in the manufaturers column\n",
    "df_focus[\"manufacturer\"]=df_focus[\"manufacturer\"].str.lower()\n",
    "#confirming if it worked\n",
    "df_focus[\"manufacturer\"].value_counts(dropna=True).head(10)"
   ]
  },
  {
   "cell_type": "markdown",
   "metadata": {},
   "source": [
    "**FINDINGS FROM THE ABOVE CODES**\n",
    "\n",
    "This tells us:\n",
    "\n",
    "What aircraft types dominate the data\n",
    "\n",
    "What kind of flights have more records"
   ]
  },
  {
   "cell_type": "markdown",
   "metadata": {},
   "source": [
    "**4. Top 10 Aircraft Manufacturers by Number of Accidents**\n",
    "\n",
    "See which aircraft brands appear most often in the dataset.\n"
   ]
  },
  {
   "cell_type": "code",
   "execution_count": 20,
   "metadata": {},
   "outputs": [
    {
     "data": {
      "image/png": "[encoded data removed]",
      "text/plain": [
       "<Figure size 720x432 with 1 Axes>"
      ]
     },
     "metadata": {},
     "output_type": "display_data"
    }
   ],
   "source": [
    "import matplotlib.pyplot as plt\n",
    "plt.style.use(\"ggplot\")\n",
    "\n",
    "top_makes = df_focus[\"manufacturer\"].value_counts().head(10)\n",
    "\n",
    "plt.figure(figsize=(10,6))\n",
    "top_makes.plot(kind='bar', color='#FF3B30')\n",
    "plt.title(\"Top 10 Aircraft Manufacturers by Number of Accidents\")\n",
    "plt.xlabel(\"Manufacturer\")\n",
    "plt.ylabel(\"Number of Accidents\")\n",
    "plt.xticks(rotation=45)\n",
    "plt.tight_layout()\n",
    "plt.show()\n"
   ]
  },
  {
   "cell_type": "markdown",
   "metadata": {},
   "source": [
    "**5. Distribution of Flight Purposes**\n",
    "\n",
    "Check what kinds of flights are most represented — personal, instructional, or commercial.\n"
   ]
  },
  {
   "cell_type": "code",
   "execution_count": 21,
   "metadata": {},
   "outputs": [
    {
     "data": {
      "image/png": "[encoded data removed]",
      "text/plain": [
       "<Figure size 576x432 with 1 Axes>"
      ]
     },
     "metadata": {},
     "output_type": "display_data"
    }
   ],
   "source": [
    "df_focus[\"purpose_of_flight\"].value_counts().head(10).plot(kind='bar', color='#1FB6FF', figsize=(8,6))\n",
    "plt.title(\"Purpose of Flight Distribution\")\n",
    "plt.xlabel(\"Flight Purpose\")\n",
    "plt.ylabel(\"Count\")\n",
    "plt.xticks(rotation=45)\n",
    "plt.tight_layout()\n",
    "plt.show()\n"
   ]
  },
  {
   "cell_type": "code",
   "execution_count": 22,
   "metadata": {},
   "outputs": [
    {
     "data": {
      "image/png": "[encoded data removed]",
      "text/plain": [
       "<Figure size 720x504 with 1 Axes>"
      ]
     },
     "metadata": {},
     "output_type": "display_data"
    }
   ],
   "source": [
    "#Fatalities by purpose of flights\n",
    "plt.figure(figsize=(10,7))\n",
    "purpose_fatalities = df_focus.groupby(\"purpose_of_flight\")[\"total_fatal_injuries\"].sum().sort_values(ascending=False).head(10)\n",
    "\n",
    "purpose_fatalities.plot(kind='bar', color='#FF3B30')\n",
    "plt.title(\"Total Fatalities by Flight Purpose\")\n",
    "plt.xlabel(\"Purpose of Flight\")\n",
    "plt.ylabel(\"Total Fatalities\")\n",
    "plt.xticks(rotation=45)\n",
    "plt.tight_layout()\n",
    "plt.show()\n"
   ]
  },
  {
   "cell_type": "markdown",
   "metadata": {},
   "source": [
    "**6. Aircraft Damage Levels**\n",
    "\n",
    "Shows how much damage aircraft typically suffer in recorded accidents.\n"
   ]
  },
  {
   "cell_type": "code",
   "execution_count": 23,
   "metadata": {},
   "outputs": [
    {
     "data": {
      "image/png": "[encoded data removed]",
      "text/plain": [
       "<Figure size 720x504 with 1 Axes>"
      ]
     },
     "metadata": {},
     "output_type": "display_data"
    }
   ],
   "source": [
    "df_focus[\"damage_level\"].value_counts().plot(kind='bar', color='#1FB6FF', figsize=(10,7))\n",
    "plt.title(\"Aircraft Damage Level Distribution\")\n",
    "plt.xlabel(\"Damage Level\")\n",
    "plt.ylabel(\"Count\")\n",
    "plt.xticks(rotation=0)\n",
    "plt.tight_layout()\n",
    "plt.show()\n"
   ]
  },
  {
   "cell_type": "markdown",
   "metadata": {},
   "source": [
    "**7. Accident Trends Over Time**\n",
    "\n",
    "Are accidents increasing or decreasing? Let’s look at yearly data.\n"
   ]
  },
  {
   "cell_type": "code",
   "execution_count": 24,
   "metadata": {
    "scrolled": true
   },
   "outputs": [
    {
     "name": "stderr",
     "output_type": "stream",
     "text": [
      "<ipython-input-24-634dff8d3867>:1: SettingWithCopyWarning: \n",
      "A value is trying to be set on a copy of a slice from a DataFrame.\n",
      "Try using .loc[row_indexer,col_indexer] = value instead\n",
      "\n",
      "See the caveats in the documentation: https://pandas.pydata.org/pandas-docs/stable/user_guide/indexing.html#returning-a-view-versus-a-copy\n",
      "  df_focus[\"year\"] = df_focus[\"date\"].dt.year\n"
     ]
    },
    {
     "data": {
      "image/png": "[encoded data removed]",
      "text/plain": [
       "<Figure size 864x432 with 1 Axes>"
      ]
     },
     "metadata": {},
     "output_type": "display_data"
    }
   ],
   "source": [
    "df_focus[\"year\"] = df_focus[\"date\"].dt.year\n",
    "#pulls the year out of the full date and makes a new column year\n",
    "accidents_by_year = df_focus[\"year\"].value_counts().sort_index()\n",
    "#puts the years in order\n",
    "plt.figure(figsize=(12,6))\n",
    "accidents_by_year.plot(kind='line', color='#FF3B30')\n",
    "plt.title(\"Aircraft Accidents per Year\")\n",
    "plt.xlabel(\"Year\")\n",
    "plt.ylabel(\"Number of Accidents\")\n",
    "\n",
    "plt.tight_layout()\n",
    "plt.savefig(\"Accidents_Year.png\")\n",
    "\n",
    "plt.show();\n"
   ]
  },
  {
   "cell_type": "markdown",
   "metadata": {},
   "source": [
    "**8. Correlation Between Injury Types and Safety Score**\n",
    "\n",
    "This heatmap shows how different injuries relate to each other and to our calculated safety score.\n"
   ]
  },
  {
   "cell_type": "code",
   "execution_count": 32,
   "metadata": {},
   "outputs": [
    {
     "data": {
      "image/png": "[encoded data removed]",
      "text/plain": [
       "<Figure size 720x504 with 2 Axes>"
      ]
     },
     "metadata": {},
     "output_type": "display_data"
    }
   ],
   "source": [
    "import pandas as pd\n",
    "import seaborn as sns\n",
    "import matplotlib.pyplot as plt\n",
    "from matplotlib.colors import LinearSegmentedColormap\n",
    "\n",
    "# Step 1: Creating a 3-color diverging palette (red → white → blue)\n",
    "bold_color_map = LinearSegmentedColormap.from_list(\n",
    "    \"bold_red_blue\", \n",
    "    [\"#FF3B30\", \"#FFFFFF\", \"#1FB6FF\"], \n",
    "    N=256\n",
    ")\n",
    "\n",
    "# Optional: Drop rows with missing values\n",
    "df_focus = df_focus.dropna(subset=[\n",
    "    \"total_fatal_injuries\",\n",
    "    \"total_serious_injuries\",\n",
    "    \"total_minor_injuries\",\n",
    "    \"total_uninjured\",\n",
    "    \"safety_score\"\n",
    "])\n",
    "\n",
    "# Step 2: Selecting the correlation matrix\n",
    "corr_matrix = df_focus[[\n",
    "    \"total_fatal_injuries\",\n",
    "    \"total_serious_injuries\",\n",
    "    \"total_minor_injuries\",\n",
    "    \"total_uninjured\",\n",
    "    \"safety_score\"\n",
    "]].corr()\n",
    "\n",
    "# Step 3: Plotting with the custom color map\n",
    "plt.figure(figsize=(10,7))\n",
    "sns.heatmap(\n",
    "    corr_matrix,\n",
    "    annot=True,\n",
    "    cmap=bold_color_map,\n",
    "    center=0,\n",
    "    linewidths=0.5,\n",
    "    linecolor='gray'\n",
    ")\n",
    "\n",
    "plt.title(\"Correlation Matrix of Injury and Safety Score\", fontsize=14)\n",
    "plt.tight_layout()\n",
    "plt.show()\n"
   ]
  },
  {
   "cell_type": "markdown",
   "metadata": {},
   "source": [
    "What This Does:\n",
    "#FF3B30(CRIMSON RED) → **for strong negative correlation**\n",
    "\n",
    "#1FB6FF(ELECTRIC BLUE) → **for strong positive correlation**\n",
    "\n",
    "#FFFFFF (white) → **neutral (around 0)**\n",
    "\n",
    "This gives the visuals a bold and clean look, matching the project's color identity.\n",
    "\n",
    "**FINDINGS FROM THE CORRELATION MATRIX**\n",
    "\n",
    "As you can see that the crimson red is nowhere to be seen , meaning that there is no strong negative relationship between variables\n",
    "\n"
   ]
  },
  {
   "cell_type": "markdown",
   "metadata": {},
   "source": [
    "**9. Scatter Plot: Fatal vs Serious Injuries**\n",
    "\n",
    "This scatter plot helps us see the relationship between fatal and serious injuries. Each point is an accident.\n"
   ]
  },
  {
   "cell_type": "code",
   "execution_count": null,
   "metadata": {},
   "outputs": [],
   "source": [
    "plt.figure(figsize=(8,6))\n",
    "plt.scatter(\n",
    "    df_focus[\"total_serious_injuries\"],\n",
    "    df_focus[\"total_fatal_injuries\"],\n",
    "    alpha=0.4,\n",
    "    c='#FF3B30'\n",
    ")\n",
    "\n",
    "plt.title(\"Fatal Injuries vs Serious Injuries\")\n",
    "plt.xlabel(\"Total Serious Injuries\")\n",
    "plt.ylabel(\"Total Fatal Injuries\")\n",
    "\n",
    "plt.tight_layout()\n",
    "plt.show()\n"
   ]
  },
  {
   "cell_type": "markdown",
   "metadata": {},
   "source": [
    "**10. Enhanced Scatter Plot: Fatal vs Serious Injuries by Damage Level**\n",
    "\n",
    "This scatter plot shows the relationship between fatal and serious injuries, with color representing how badly the aircraft was damaged.\n"
   ]
  },
  {
   "cell_type": "code",
   "execution_count": null,
   "metadata": {},
   "outputs": [],
   "source": [
    "plt.figure(figsize=(10,7))\n",
    "\n",
    "sns.scatterplot(\n",
    "    data=df_focus,\n",
    "    x=\"total_serious_injuries\",\n",
    "    y=\"total_fatal_injuries\",\n",
    "    hue=\"damage_level\",\n",
    "    palette=\"Set1\",   # color scheme\n",
    "    alpha=0.6\n",
    ")\n",
    "\n",
    "plt.title(\"Fatal vs Serious Injuries Colored by Damage Level\")\n",
    "plt.xlabel(\"Total Serious Injuries\")\n",
    "plt.ylabel(\"Total Fatal Injuries\")\n",
    "plt.legend(title=\"Damage Level\", bbox_to_anchor=(1.05, 1), loc='upper left')\n",
    "\n",
    "plt.tight_layout()\n",
    "plt.show()\n"
   ]
  },
  {
   "cell_type": "markdown",
   "metadata": {},
   "source": [
    "What to Look For:\n",
    "\n",
    "Do 'Destroyed' aircraft show up in the top-right corner (most injuries)?\n",
    "\n",
    "Are 'Minor Damage' aircraft clustered around (0,0) — meaning low risk?\n",
    "\n",
    "This helps the business connect damage to human cost.\n",
    "\n"
   ]
  },
  {
   "cell_type": "markdown",
   "metadata": {},
   "source": [
    "**Bonus: Filter to View Only Accidents With Injuries**\n",
    "\n",
    "To remove accidents with zero injuries (which crowd the bottom left):"
   ]
  },
  {
   "cell_type": "code",
   "execution_count": null,
   "metadata": {},
   "outputs": [],
   "source": [
    "plt.figure(figsize=(10,7))\n",
    "injured_df = df_focus[\n",
    "    (df_focus[\"total_fatal_injuries\"] > 0) |\n",
    "    (df_focus[\"total_serious_injuries\"] > 0)\n",
    "]\n",
    "\n",
    "sns.scatterplot(\n",
    "    data=injured_df,\n",
    "    x=\"total_serious_injuries\",\n",
    "    y=\"total_fatal_injuries\",\n",
    "    hue=\"damage_level\",\n",
    "    palette=\"Set2\",\n",
    "    alpha=0.7\n",
    ")\n",
    "plt.title(\"Injury-Only Accidents by Damage Level\")\n",
    "plt.xlabel(\"Serious Injuries\")\n",
    "plt.ylabel(\"Fatal Injuries\")\n",
    "plt.legend(title=\"Damage Level\", bbox_to_anchor=(1.05, 1))\n",
    "plt.tight_layout()\n",
    "plt.show()\n"
   ]
  },
  {
   "cell_type": "code",
   "execution_count": null,
   "metadata": {},
   "outputs": [],
   "source": [
    "#lets look at worst aircraft models by safety score\n",
    "model_scores = df_focus.groupby(\"aircraft_model\")[\"safety_score\"].mean().sort_values(ascending=False).head(10)\n",
    "\n",
    "model_scores.plot(kind='bar', figsize=(10,6), color='#FF3B30')\n",
    "plt.title(\"Aircraft Models with Highest Average Safety Risk Score\")\n",
    "plt.xlabel(\"Aircraft Model\")\n",
    "plt.ylabel(\"Average Safety Score\")\n",
    "plt.xticks(rotation=45)\n",
    "plt.tight_layout()\n",
    "plt.savefig(\"Model_Safety.png\")\n",
    "\n",
    "plt.show()\n"
   ]
  },
  {
   "cell_type": "markdown",
   "metadata": {},
   "source": [
    "The above means the higher the safety score the worse the model of the plane"
   ]
  },
  {
   "cell_type": "markdown",
   "metadata": {},
   "source": [
    "**Summary of EDA Insights**\n",
    "\n",
    "- Most accidents involve a few key manufacturers (e.g., Cessna, Piper).\n",
    "- Personal and instructional flights dominate accident categories.\n",
    "- Aircraft damage is often substantial or total.\n",
    "- Fatal and serious injuries are strongly tied to the safety score.\n",
    "- Accident numbers have dropped significantly over time.\n"
   ]
  },
  {
   "cell_type": "markdown",
   "metadata": {},
   "source": [
    "**TRANSLATING ANALYSIS INTO THREE CLEAR BUSINESS RECOMMENDATIONS**\n",
    "\n",
    "We will match each insight with a visual and a concrete suggestion"
   ]
  },
  {
   "cell_type": "markdown",
   "metadata": {},
   "source": [
    "**RECOMMENDATION 1: AVOID CERTAIN AIRCRAFT MODELS WITH HIGH SAFETY SCORE**\n",
    "\n",
    " Visual: Bar chart of \"Aircraft Models with Highest Average Safety Risk Score\""
   ]
  },
  {
   "cell_type": "code",
   "execution_count": null,
   "metadata": {},
   "outputs": [],
   "source": [
    "#lets look at worst aircraft models by safety score\n",
    "model_scores = df_focus.groupby(\"aircraft_model\")[\"safety_score\"].mean().sort_values(ascending=False).head(10)\n",
    "\n",
    "model_scores.plot(kind='bar', figsize=(10,6), color='#FF3B30')\n",
    "plt.title(\"Aircraft Models with Highest Average Safety Risk Score\")\n",
    "plt.xlabel(\"Aircraft Model\")\n",
    "plt.ylabel(\"Average Safety Score\")\n",
    "plt.xticks(rotation=45)\n",
    "plt.tight_layout()\n",
    "plt.show()\n"
   ]
  },
  {
   "cell_type": "markdown",
   "metadata": {},
   "source": [
    "**Insight**: Some aircraft models repeatedly show high fatality and injury rates based on the safety_score.\n",
    "\n",
    "**Recommendation**:\n",
    "\n",
    "Avoid investing in aircraft models with high safety scores, such as [Top 1–2 models from our chart], which show higher average fatal and serious injuries per incident.\n",
    "\n",
    "**Business Value**: Reduces risk exposure and liability."
   ]
  },
  {
   "cell_type": "markdown",
   "metadata": {},
   "source": [
    "**Recommendation 2: Prioritize Manufacturers with Lower Accident Rates**\n",
    "\n",
    "Visual: Bar chart of \"Top 10 Manufacturers by Number of Accidents\"\n",
    "\n"
   ]
  },
  {
   "cell_type": "code",
   "execution_count": 26,
   "metadata": {},
   "outputs": [
    {
     "data": {
      "image/png": "[encoded data removed]",
      "text/plain": [
       "<Figure size 720x432 with 1 Axes>"
      ]
     },
     "metadata": {},
     "output_type": "display_data"
    }
   ],
   "source": [
    "top_makes = df_focus[\"manufacturer\"].value_counts().head(10)\n",
    "\n",
    "plt.figure(figsize=(10,6))\n",
    "top_makes.plot(kind='bar', color='#1FB6FF')\n",
    "plt.title(\"Top 10 Aircraft Manufacturers by Number of Accidents\")\n",
    "plt.xlabel(\"Manufacturer\")\n",
    "plt.ylabel(\"Number of Accidents\")\n",
    "plt.xticks(rotation=45)\n",
    "plt.tight_layout()\n",
    "plt.savefig(\"Manufacturer_Accidents.png\")\n",
    "plt.show()\n"
   ]
  },
  {
   "cell_type": "markdown",
   "metadata": {},
   "source": [
    " **Insight**: A few manufacturers dominate accident frequency.\n",
    "              \n",
    "\n",
    "**Recommendation**:\n",
    "\n",
    "Prioritize aircraft from manufacturers with lower historical accident counts, and approach high-incident brands like [Top 2 from chart] with caution.\n",
    "\n",
    "**Business Value**: Enables smarter sourcing of safer aircraft brands."
   ]
  },
  {
   "cell_type": "markdown",
   "metadata": {},
   "source": [
    "**Recommendation 3: Be Cautious with Personal or Instructional Flights**\n",
    "\n",
    "Visual: Total Fatalities by Purpose of Flight"
   ]
  },
  {
   "cell_type": "code",
   "execution_count": null,
   "metadata": {},
   "outputs": [],
   "source": [
    "#Fatalities by purpose of flights\n",
    "plt.figure(figsize=(10,7))\n",
    "purpose_fatalities = df_focus.groupby(\"purpose_of_flight\")[\"total_fatal_injuries\"].sum().sort_values(ascending=False).head(10)\n",
    "\n",
    "purpose_fatalities.plot(kind='bar', color='#FF3B30')\n",
    "plt.title(\"Total Fatalities by Flight Purpose\")\n",
    "plt.xlabel(\"Purpose of Flight\")\n",
    "plt.ylabel(\"Total Fatalities\")\n",
    "plt.xticks(rotation=45)\n",
    "plt.tight_layout()\n",
    "plt.savefig(\"Total_Purpose.png\")\n",
    "\n",
    "plt.show()"
   ]
  },
  {
   "cell_type": "markdown",
   "metadata": {},
   "source": [
    " **Insight**: Personal and instructional flights contribute significantly to fatal injuries compared to commercial flights.\n",
    "\n",
    "**Recommendation**:\n",
    "\n",
    "Focus initial investments on aircraft for commercial use, where safety regulations and oversight tend to be stricter. Avoid targeting markets dominated by personal/recreational aviation during the early expansion phase.\n",
    "\n",
    "**Business Value**: Improves risk control in early adoption phase."
   ]
  },
  {
   "cell_type": "markdown",
   "metadata": {},
   "source": [
    "**NOW READYING OUR DATASET FOR TABLEAU ANALYSIS AND DASHBOARDING**"
   ]
  },
  {
   "cell_type": "code",
   "execution_count": null,
   "metadata": {},
   "outputs": [],
   "source": [
    "#the index = false means dont save the row numbers we dont need them\n",
    "df_focus.to_csv(\"cleaned_aviation_data.csv\", index=False)\n"
   ]
  }
 ],
 "metadata": {
  "kernelspec": {
   "display_name": "Python (learn-env)",
   "language": "python",
   "name": "learn-env"
  },
  "language_info": {
   "codemirror_mode": {
    "name": "ipython",
    "version": 3
   },
   "file_extension": ".py",
   "mimetype": "text/x-python",
   "name": "python",
   "nbconvert_exporter": "python",
   "pygments_lexer": "ipython3",
   "version": "3.8.5"
  }
 },
 "nbformat": 4,
 "nbformat_minor": 4
}
